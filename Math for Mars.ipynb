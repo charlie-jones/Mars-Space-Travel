{
 "cells": [
  {
   "cell_type": "markdown",
   "metadata": {},
   "source": [
    "## Mars Space Travel Today\n",
    "\n",
    "Mars is a primary destination for space travel today as it is a candidate for a colony in our solar system. It's relatively close to Earth, has enough sunlight (for growing plants), and has a reasonable amount of gravity [1]. NASA has sent rovers to Mars and plans to send people to Mars after the Moon [2]. The private company SpaceX seeks to reduce costs on rockets, and oneday make humans interplanetary [1]. In this notebook, I'll explore the math related to safely launching a rocket to Mars. I'll use python code to assist in computations."
   ]
  },
  {
   "cell_type": "code",
   "execution_count": 1,
   "metadata": {},
   "outputs": [],
   "source": [
    "# import relevant python libraries\n",
    "import numpy as np"
   ]
  },
  {
   "cell_type": "markdown",
   "metadata": {},
   "source": [
    "## 1. Hohmann transfer -- find Escape Velocity"
   ]
  },
  {
   "cell_type": "markdown",
   "metadata": {},
   "source": [
    "Here, we'll do calculations on Hohmann transfer, which involves finding the right time to depart from Earth's orbit in order to get to Mars as efficiently as possible [4]. Most of the math I learned is from resource [3]."
   ]
  },
  {
   "cell_type": "code",
   "execution_count": 2,
   "metadata": {},
   "outputs": [],
   "source": [
    "# Constants\n",
    "Mu = 3.986005e14 # equal to GM -- the gravitational constant * Mass of Earth [m^3/s^2] "
   ]
  },
  {
   "cell_type": "markdown",
   "metadata": {},
   "source": [
    "<img src=\"https://drive.google.com/uc?export=view&id=1COqdXiAoQCtAw87_KS4_93V0jxCsBggs\" alt=\"Drawing\" style=\"width: 350px;\"/>\n",
    "image from resource [3]"
   ]
  },
  {
   "cell_type": "code",
   "execution_count": 3,
   "metadata": {},
   "outputs": [],
   "source": [
    "rA = 6578140 # Earth's orbital radius -- 6,578,140 [m]\n",
    "rB = 42164170 # Mars' orbital radius -- 42,164,170 [m]\n",
    "a_tx = (rA + rB) / 2 # distance from center line to transfer ellispe (semi-axis major) [m]"
   ]
  },
  {
   "cell_type": "code",
   "execution_count": 4,
   "metadata": {},
   "outputs": [
    {
     "name": "stdout",
     "output_type": "stream",
     "text": [
      "Esacpe velocity is 2454.6 m/s\n",
      "Final orbit velocity is 1477.3 m/s\n",
      "Total velocity change is 3931.9 m/s\n"
     ]
    }
   ],
   "source": [
    "Vi = np.sqrt(Mu/rA) # initial velocity (at point A) [m/s]\n",
    "#print(Vi)\n",
    "Vf = np.sqrt(Mu/rB) # final velocity (at point B) [m/s]\n",
    "#print(Vf)\n",
    "V_txA = np.sqrt(Mu*(2/rA-1/a_tx)) # velocity when starting on transfer orbit (A) [m/s]\n",
    "#print(V_txA)\n",
    "V_txB = np.sqrt(Mu*(2/rB-1/a_tx)) # velocity when ending transfer orbit (B) [m/s]\n",
    "#print(V_txB)\n",
    "d_VA = V_txA - Vi # delta of velocity A [m/s]\n",
    "print(\"Esacpe velocity is %.1f m/s\" % (d_VA))\n",
    "d_VB = Vf - V_txB # delta of velocity B [m/s]\n",
    "print(\"Final orbit velocity is %.1f m/s\" % (d_VB))\n",
    "# answer -- escape velocity\n",
    "d_VT = d_VA + d_VB  # total velocity change\n",
    "print(\"Total velocity change is %.1f m/s\" % (d_VT))"
   ]
  },
  {
   "cell_type": "markdown",
   "metadata": {},
   "source": [
    "There is one more method for called the \"One-Tangent Burn\". It's outside the scope of this notebook, but more details about it can be learned from [3]."
   ]
  },
  {
   "cell_type": "markdown",
   "metadata": {},
   "source": [
    "## 2. Calculate Fuel"
   ]
  },
  {
   "cell_type": "markdown",
   "metadata": {},
   "source": [
    "In this section we'll find the maximum amount of fuel (measured by time while the rocket is using fuel) the rocket needs to gain 2454 m/s in speed (the escape velocity). This photo (from [4]) helps explain some of the variables needed for the formula."
   ]
  },
  {
   "cell_type": "markdown",
   "metadata": {},
   "source": [
    "<img src=\"https://drive.google.com/uc?export=view&id=1exdF8D6lRVDVRANRqDcK7MHxJ1N-d3oo\" alt=\"Drawing\" style=\"width: 600px;\"/>"
   ]
  },
  {
   "cell_type": "code",
   "execution_count": 5,
   "metadata": {},
   "outputs": [],
   "source": [
    "# these numbers are from a hypothetical example in [5]\n",
    "M = 30000 # mass of rocket [kg]\n",
    "q = 30 # mass flow rate (m dot)\n",
    "Ve = 3100 # escape velocity of fuel [m/s]"
   ]
  },
  {
   "cell_type": "markdown",
   "metadata": {},
   "source": [
    "<img src=\"https://drive.google.com/uc?export=view&id=1w6AUhYmhXaRcJbqwHXFLU5tHIbggzYx3\" alt=\"Drawing\" style=\"width: 700px;\"/>\n"
   ]
  },
  {
   "cell_type": "code",
   "execution_count": 6,
   "metadata": {},
   "outputs": [
    {
     "name": "stdout",
     "output_type": "stream",
     "text": [
      "Total time for rocket to reach 2454 m/s is 9 minutes and 6 seconds\n"
     ]
    }
   ],
   "source": [
    "t = (M-(M/np.exp(d_VA/Ve))) / q # in seconds\n",
    "#print(t)\n",
    "minutes = int(t/60)\n",
    "seconds = int(t) % 60\n",
    "print(\"Total time for rocket to reach %d m/s is %d minutes and %d seconds\" % (int(d_VA), minutes, seconds))"
   ]
  },
  {
   "cell_type": "markdown",
   "metadata": {},
   "source": [
    "## 3. Journey"
   ]
  },
  {
   "cell_type": "markdown",
   "metadata": {},
   "source": [
    "The journey to Mars is typically 6 months, or 180 days [1] (most of the time is when rocket is on the transfer ellipse as shown previously). Image from [6]."
   ]
  },
  {
   "cell_type": "markdown",
   "metadata": {},
   "source": [
    "<img src=\"https://drive.google.com/uc?export=view&id=1r5D9NNe0WVWilBS-ZcoPcPOeV0EKsrXE\" alt=\"Drawing\" style=\"width: 300px;\"/>"
   ]
  },
  {
   "cell_type": "code",
   "execution_count": 7,
   "metadata": {},
   "outputs": [
    {
     "name": "stdout",
     "output_type": "stream",
     "text": [
      "total kilograms of food per person is 273.9\n",
      "total liters drinking water per person is 990.0\n"
     ]
    }
   ],
   "source": [
    "# numbers from [6]\n",
    "\n",
    "food_per_day = 0.83 # [kg]\n",
    "liters_drinkingWater_per_day = 3.0\n",
    "n_days_buffer = 150 \n",
    "n_days = 180 + n_days_buffer\n",
    "print(\"total kilograms of food per person is %.1f\" % (food_per_day*n_days))\n",
    "print(\"total liters drinking water per person is %.1f\" % (liters_drinkingWater_per_day*n_days))"
   ]
  },
  {
   "cell_type": "markdown",
   "metadata": {},
   "source": [
    "## Bonus -- SpaceX Reusable Booster "
   ]
  },
  {
   "cell_type": "markdown",
   "metadata": {},
   "source": [
    "SpaceX has made the news for there successful launches and one factor that contributes to their success is the reusability of their system. Some of the math is detailed in the image below, and I think working through more of the math would be a great exercise! The image is from [7]."
   ]
  },
  {
   "cell_type": "markdown",
   "metadata": {},
   "source": [
    "<img src=\"https://drive.google.com/uc?export=view&id=1WdIzQ8lpPbpA3JSWpW8txGChyGnsdjta\" alt=\"Drawing\" style=\"width: 500px;\"/>"
   ]
  },
  {
   "cell_type": "markdown",
   "metadata": {},
   "source": [
    "I hope this notebook was helpful! All the sources in the bibliography (and inspiration section) are very helpful, so I recommend that you check them out if you are interested."
   ]
  },
  {
   "cell_type": "markdown",
   "metadata": {},
   "source": [
    "## Bibliography\n",
    "\n",
    "1. https://www.spacex.com/human-spaceflight/mars/index.html\n",
    "2. https://www.nasa.gov/topics/moon-to-mars/overview\n",
    "3. http://www.braeunig.us/space/orbmech.htm#maneuver\n",
    "4. https://solarsystem.nasa.gov/basics/\n",
    "5. http://www.braeunig.us/space/propuls.htm\n",
    "6. https://www.nasa.gov/vision/earth/everydaylife/jamestown-needs-fs.html\n",
    "7. https://www.space.com/28167-spacex-risky-reusable-rocket-landing-infographic.html\n",
    "\n",
    "Inspiration:<br>\n",
    "https://github.com/AlvaroMenduina/Jupyter_Notebooks/blob/master/Introduction_Aerospace_Engineering/HandsOn_Project_Interplanetary_Mission/HandsOn_Project_Interplanetary_Mission.ipynb <br>\n",
    "and https://www.researchgate.net/publication/228650471_Journey_to_Mars_The_physics_of_travelling_to_the_red_planet"
   ]
  }
 ],
 "metadata": {
  "kernelspec": {
   "display_name": "Python 3",
   "language": "python",
   "name": "python3"
  },
  "language_info": {
   "codemirror_mode": {
    "name": "ipython",
    "version": 3
   },
   "file_extension": ".py",
   "mimetype": "text/x-python",
   "name": "python",
   "nbconvert_exporter": "python",
   "pygments_lexer": "ipython3",
   "version": "3.7.6"
  }
 },
 "nbformat": 4,
 "nbformat_minor": 4
}
